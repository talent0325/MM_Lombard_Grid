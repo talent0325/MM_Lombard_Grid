{
 "cells": [
  {
   "cell_type": "markdown",
   "id": "c19e94a1",
   "metadata": {},
   "source": [
    "python获取指定文件夹下的文件名，不要父路径 保存到文件"
   ]
  },
  {
   "cell_type": "code",
   "execution_count": 1,
   "id": "d540d7f0",
   "metadata": {},
   "outputs": [
    {
     "name": "stdout",
     "output_type": "stream",
     "text": [
      "✅ 已保存 54 个文件名到 D:\\FileStorage\\GitHub\\assets-1\\videos_file_list.csv\n"
     ]
    }
   ],
   "source": [
    "import os\n",
    "import csv\n",
    "\n",
    "folder = \"D:\\FileStorage\\GitHub\\\\assets-1\\\\videos\"\n",
    "save_path = \"D:\\FileStorage\\GitHub\\\\assets-1\\\\videos_file_list.csv\"\n",
    "\n",
    "filenames = [f for f in os.listdir(folder) if os.path.isfile(os.path.join(folder, f))]\n",
    "\n",
    "with open(save_path, \"w\", newline=\"\") as f:\n",
    "    writer = csv.writer(f)\n",
    "    writer.writerow([\"filename\"])\n",
    "    for name in filenames:\n",
    "        writer.writerow([name])\n",
    "\n",
    "print(f\"✅ 已保存 {len(filenames)} 个文件名到 {save_path}\")\n"
   ]
  }
 ],
 "metadata": {
  "kernelspec": {
   "display_name": "cy",
   "language": "python",
   "name": "python3"
  },
  "language_info": {
   "codemirror_mode": {
    "name": "ipython",
    "version": 3
   },
   "file_extension": ".py",
   "mimetype": "text/x-python",
   "name": "python",
   "nbconvert_exporter": "python",
   "pygments_lexer": "ipython3",
   "version": "3.9.18"
  }
 },
 "nbformat": 4,
 "nbformat_minor": 5
}
